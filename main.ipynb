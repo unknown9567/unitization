{
 "cells": [
  {
   "cell_type": "code",
   "execution_count": null,
   "metadata": {
    "scrolled": true
   },
   "outputs": [],
   "source": [
    "import os\n",
    "import sys\n",
    "root = os.path.split(os.getcwd())[0]\n",
    "sys.path.insert(0, root)\n",
    "\n",
    "import json\n",
    "import keras.backend as K\n",
    "from unitization.resnets import ResNets\n",
    "from unitization.train import (\n",
    "    reset, train_on_cifar\n",
    ")\n",
    "\n",
    "def initialize(model, dataset, seed):\n",
    "    weight_folder = os.path.join(os.getcwd(), 'weights')\n",
    "    if not os.path.isdir(weight_folder):\n",
    "        os.mkdir(weight_folder)\n",
    "    \n",
    "    weight_file = os.path.join(weight_folder, '{}-{}.h5'.format(dataset, model.name))\n",
    "    if os.path.exists(weight_file):\n",
    "        model.load_weights(weight_file, by_name=True)\n",
    "    else:\n",
    "        reset(seed)\n",
    "        model.save_weights(weight_file)\n",
    "        \n",
    "    return model\n",
    "\n",
    "def get_accuracy(history, model, dataset, normalization):\n",
    "    try:\n",
    "        accuracy = history['val_acc'][-1]\n",
    "    except:\n",
    "        accuracy = history.history['val_acc'][-1]\n",
    "    \n",
    "    accuracy_file = os.path.join(os.getcwd(), 'test_accuracy.json')\n",
    "    if not os.path.exists(accuracy_file):\n",
    "        table = dict()\n",
    "    else:\n",
    "        with open(accuracy_file, 'r') as f:\n",
    "            table = json.load(f)\n",
    "    \n",
    "    _table = table.setdefault(dataset, dict())\n",
    "    name = 'ResNet-{}'.format({'-18': '18'}.get(model.name[-3:], model.name[-3:]))\n",
    "    _table.setdefault(name, []).append((normalization, accuracy))\n",
    "    with open(accuracy_file, 'w') as f:\n",
    "        json.dump(table, f)\n",
    "    return table"
   ]
  },
  {
   "cell_type": "code",
   "execution_count": null,
   "metadata": {},
   "outputs": [],
   "source": [
    "if __name__ == '__main__':\n",
    "    batch_size = 128\n",
    "    epochs = 200\n",
    "    seed = 9408"
   ]
  },
  {
   "cell_type": "code",
   "execution_count": null,
   "metadata": {},
   "outputs": [],
   "source": [
    "    dataset = 'CIFAR-10'"
   ]
  },
  {
   "cell_type": "code",
   "execution_count": null,
   "metadata": {},
   "outputs": [],
   "source": [
    "    print('ResNet-18 with Batch Normalization on CIFAR-10:')\n",
    "    K.clear_session()\n",
    "    model = ResNets.cifar_resnet_18('batchnorm', 10)\n",
    "    model = initialize(model, dataset, seed)\n",
    "    table = get_accuracy(\n",
    "        train_on_cifar(dataset, model, seed, batch_size, epochs), \n",
    "        model, dataset, 'Batch Normalization'\n",
    "    )"
   ]
  },
  {
   "cell_type": "code",
   "execution_count": null,
   "metadata": {},
   "outputs": [],
   "source": [
    "    print('ResNet-18 with the unitization on CIFAR-10:')\n",
    "    K.clear_session()\n",
    "    model = ResNets.cifar_resnet_18('unitization', 10)\n",
    "    model = initialize(model, dataset, seed)\n",
    "    table = get_accuracy(\n",
    "        train_on_cifar(dataset, model, seed, batch_size, epochs), \n",
    "        model, dataset, 'Unitization'\n",
    "    )"
   ]
  },
  {
   "cell_type": "code",
   "execution_count": null,
   "metadata": {},
   "outputs": [],
   "source": [
    "    print('ResNet-110 with Batch Normalization on CIFAR-10:')\n",
    "    K.clear_session()\n",
    "    model = ResNets.cifar_resnet_110('batchnorm', 10)\n",
    "    model = initialize(model, dataset, seed)\n",
    "    table = get_accuracy(\n",
    "        train_on_cifar(dataset, model, seed, batch_size, epochs), \n",
    "        model, dataset, 'Batch Normalization'\n",
    "    )"
   ]
  },
  {
   "cell_type": "code",
   "execution_count": null,
   "metadata": {},
   "outputs": [],
   "source": [
    "    print('ResNet-110 with the unitization on CIFAR-10:')\n",
    "    K.clear_session()\n",
    "    model = ResNets.cifar_resnet_110('unitization', 10)\n",
    "    model = initialize(model, dataset, seed)\n",
    "    table = get_accuracy(\n",
    "        train_on_cifar(dataset, model, seed, batch_size, epochs), \n",
    "        model, dataset, 'Unitization'\n",
    "    )"
   ]
  },
  {
   "cell_type": "code",
   "execution_count": null,
   "metadata": {},
   "outputs": [],
   "source": [
    "    batch_size = 64"
   ]
  },
  {
   "cell_type": "code",
   "execution_count": null,
   "metadata": {},
   "outputs": [],
   "source": [
    "    print('ResNet-164 with Batch Normalization on CIFAR-10:')\n",
    "    K.clear_session()\n",
    "    model = ResNets.cifar_resnet_164('batchnorm', 10)\n",
    "    model = initialize(model, dataset, seed)\n",
    "    table = get_accuracy(\n",
    "        train_on_cifar(dataset, model, seed, batch_size, epochs), \n",
    "        model, dataset, 'Batch Normalization'\n",
    "    )"
   ]
  },
  {
   "cell_type": "code",
   "execution_count": null,
   "metadata": {},
   "outputs": [],
   "source": [
    "    print('ResNet-164 with the unitization on CIFAR-10:')\n",
    "    K.clear_session()\n",
    "    model = ResNets.cifar_resnet_164('unitization', 10)\n",
    "    model = initialize(model, dataset, seed)\n",
    "    table = get_accuracy(\n",
    "        train_on_cifar(dataset, model, seed, batch_size, epochs), \n",
    "        model, dataset, 'Unitization'\n",
    "    )"
   ]
  },
  {
   "cell_type": "code",
   "execution_count": null,
   "metadata": {},
   "outputs": [],
   "source": [
    "    dataset = 'CIFAR-100'\n",
    "    batch_size = 128"
   ]
  },
  {
   "cell_type": "code",
   "execution_count": null,
   "metadata": {},
   "outputs": [],
   "source": [
    "    print('ResNet-18 with Batch Normalization on CIFAR-100:')\n",
    "    K.clear_session()\n",
    "    model = ResNets.cifar_resnet_18('batchnorm', 100)\n",
    "    model = initialize(model, dataset, seed)\n",
    "    table = get_accuracy(\n",
    "        train_on_cifar(dataset, model, seed, batch_size, epochs), \n",
    "        model, dataset, 'Batch Normalization'\n",
    "    )"
   ]
  },
  {
   "cell_type": "code",
   "execution_count": null,
   "metadata": {},
   "outputs": [],
   "source": [
    "    print('ResNet-18 with the unitization on CIFAR-100:')\n",
    "    K.clear_session()\n",
    "    model = ResNets.cifar_resnet_18('unitization', 100)\n",
    "    model = initialize(model, dataset, seed)\n",
    "    table = get_accuracy(\n",
    "        train_on_cifar(dataset, model, seed, batch_size, epochs), \n",
    "        model, dataset, 'Unitization'\n",
    "    )"
   ]
  },
  {
   "cell_type": "code",
   "execution_count": null,
   "metadata": {},
   "outputs": [],
   "source": [
    "    print('ResNet-110 with Batch Normalization on CIFAR-100:')\n",
    "    K.clear_session()\n",
    "    model = ResNets.cifar_resnet_110('batchnorm', 100)\n",
    "    model = initialize(model, dataset, seed)\n",
    "    table = get_accuracy(\n",
    "        train_on_cifar(dataset, model, seed, batch_size, epochs), \n",
    "        model, dataset, 'Batch Normalization'\n",
    "    )"
   ]
  },
  {
   "cell_type": "code",
   "execution_count": null,
   "metadata": {},
   "outputs": [],
   "source": [
    "    print('ResNet-110 with the unitization on CIFAR-100:')\n",
    "    K.clear_session()\n",
    "    model = ResNets.cifar_resnet_110('unitization', 100)\n",
    "    model = initialize(model, dataset, seed)\n",
    "    table = get_accuracy(\n",
    "        train_on_cifar(dataset, model, seed, batch_size, epochs), \n",
    "        model, dataset, 'Unitization'\n",
    "    )"
   ]
  },
  {
   "cell_type": "code",
   "execution_count": null,
   "metadata": {},
   "outputs": [],
   "source": [
    "    batch_size = 64"
   ]
  },
  {
   "cell_type": "code",
   "execution_count": null,
   "metadata": {},
   "outputs": [],
   "source": [
    "    print('ResNet-164 with Batch Normalization on CIFAR-100:')\n",
    "    K.clear_session()\n",
    "    model = ResNets.cifar_resnet_164('batchnorm', 100)\n",
    "    model = initialize(model, dataset, seed)\n",
    "    table = get_accuracy(\n",
    "        train_on_cifar(dataset, model, seed, batch_size, epochs), \n",
    "        model, dataset, 'Batch Normalization'\n",
    "    )"
   ]
  },
  {
   "cell_type": "code",
   "execution_count": null,
   "metadata": {},
   "outputs": [],
   "source": [
    "    print('ResNet-164 with the unitization on CIFAR-100:')\n",
    "    K.clear_session()\n",
    "    model = ResNets.cifar_resnet_164('unitization', 100)\n",
    "    model = initialize(model, dataset, seed)\n",
    "    table = get_accuracy(\n",
    "        train_on_cifar(dataset, model, seed, batch_size, epochs), \n",
    "        model, dataset, 'Unitization'\n",
    "    )"
   ]
  },
  {
   "cell_type": "code",
   "execution_count": null,
   "metadata": {},
   "outputs": [],
   "source": [
    "    with open(os.path.join(os.getcwd(), 'test_accuracy.json'), 'r') as f:\n",
    "        table = json.load(f)\n",
    "    try:\n",
    "        !{sys.executable} -m pip install tabulate\n",
    "        from IPython.display import HTML, display\n",
    "        import tabulate\n",
    "        display_table = [['dataset', 'model', 'normalization', 'accuracy']]\n",
    "        for dataset, _table in table.items():\n",
    "            model_names = list(_table.keys())\n",
    "            model_names.sort(key=lambda x: {'-18': 18, '110': 110, '164': 164}[x[-3:]])\n",
    "            for model_name in model_names:\n",
    "                for normalization, accuracy in _table[model_name]:\n",
    "                    display_table.append([dataset, model_name, normalization, '{:.2f}%'.format(accuracy * 100)])\n",
    "        display(HTML(tabulate.tabulate(display_table, tablefmt='html')))\n",
    "    except:\n",
    "        form = '{:10s} {:10s} {:20s} {:10s}'\n",
    "        display = form.format('dataset', 'model', 'normalization', 'accuracy')\n",
    "        for dataset, _table in table.items():\n",
    "            model_names = list(_table.keys())\n",
    "            model_names.sort(key=lambda x: {'-18': 18, '110': 110, '164': 164}[x[-3:]])\n",
    "            for model_name in model_names:\n",
    "                for normalization, accuracy in _table[model_name]:\n",
    "                    display += '\\n' + form.format(\n",
    "                        dataset, model_name, normalization, '{:.2f}%'.format(accuracy * 100)\n",
    "                    )\n",
    "        print(display)"
   ]
  }
 ],
 "metadata": {
  "kernelspec": {
   "display_name": "Python 3",
   "language": "python",
   "name": "python3"
  },
  "language_info": {
   "codemirror_mode": {
    "name": "ipython",
    "version": 3
   },
   "file_extension": ".py",
   "mimetype": "text/x-python",
   "name": "python",
   "nbconvert_exporter": "python",
   "pygments_lexer": "ipython3",
   "version": "3.6.2"
  }
 },
 "nbformat": 4,
 "nbformat_minor": 2
}
